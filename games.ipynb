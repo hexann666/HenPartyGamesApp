{
 "cells": [
  {
   "cell_type": "code",
   "execution_count": 95,
   "metadata": {},
   "outputs": [],
   "source": [
    "from pandas import read_csv, DataFrame, set_option\n",
    "import random"
   ]
  },
  {
   "cell_type": "code",
   "execution_count": 122,
   "metadata": {},
   "outputs": [],
   "source": [
    "def NeverHaveIEver():\n",
    "    df_never = read_csv('data/NeverHaveIEver.csv', names=['Question'])\n",
    "    set_option('display.max_colwidth', None)\n",
    "    count = len(df_never.index)\n",
    "    n = random.randint(0, count)\n",
    "    question = df_never.loc[[n]]\n",
    "    return question.Question.to_string(index=False)\n",
    "\n",
    "def WouldYouRather():\n",
    "    set_option('display.max_colwidth', None)\n",
    "    df_wyr = read_csv('data/WouldYouRather.csv', names=['Question'])\n",
    "    count = len(df_wyr.index)\n",
    "    n = random.randint(0, count)\n",
    "    question = df_wyr.loc[[n]]\n",
    "    return question.Question.to_string(index=False)\n",
    "\n",
    "def DrunkPictionary(category):\n",
    "    \"\"\"\n",
    "    category_list = ['A Type of Food',\n",
    "                'A TV Show',\n",
    "                'A Film',\n",
    "                'An Object',\n",
    "                'An Action',\n",
    "                'A Character',\n",
    "                #'A Celebrity',\n",
    "                'An Animal',\n",
    "                'A Building',\n",
    "                'A Nationality']\n",
    "    n = random.randint(0, len(category_list))\n",
    "    #category = category_list[n]\n",
    "    \"\"\"\n",
    "    df_drunk = read_csv('data/DrunkPictionary.csv', sep=';', names=['Category', 'Object'])\n",
    "    rows = df_drunk[df_drunk.Category == category].reset_index(drop=True)\n",
    "    count = len(rows.index)\n",
    "    row = random.randint(0, count)\n",
    "    question = rows['Object'].loc[[row]]\n",
    "    return question.to_string(index=False)\n",
    "    "
   ]
  },
  {
   "cell_type": "code",
   "execution_count": 67,
   "metadata": {},
   "outputs": [
    {
     "data": {
      "text/plain": [
       "0    Art gallery\n",
       "Name: Object, dtype: object"
      ]
     },
     "execution_count": 67,
     "metadata": {},
     "output_type": "execute_result"
    }
   ],
   "source": [
    "category_list = ['A Type of Food',\n",
    "                'A TV Show',\n",
    "                'A Film',\n",
    "                'An Object',\n",
    "                'An Action',\n",
    "                'A Character',\n",
    "                #'A Celebrity',\n",
    "                'An Animal',\n",
    "                'A Building',\n",
    "                'A Nationality']\n",
    "n = random.randint(0, len(category_list))\n",
    "category = category_list[n]\n",
    "df_drunk = read_csv('data/DrunkPictionary.csv', sep=';', names=['Category', 'Object'])\n",
    "rows = df_drunk[df_drunk.Category == category].reset_index(drop=True)\n",
    "count = len(rows.index)\n",
    "row = random.randint(0, count)\n",
    "rows['Object'].loc[[row]]"
   ]
  },
  {
   "cell_type": "code",
   "execution_count": 126,
   "metadata": {},
   "outputs": [
    {
     "data": {
      "text/plain": [
       "'Bazar'"
      ]
     },
     "execution_count": 126,
     "metadata": {},
     "output_type": "execute_result"
    }
   ],
   "source": [
    "DrunkPictionary('A Building')"
   ]
  }
 ],
 "metadata": {
  "kernelspec": {
   "display_name": "Python 3.10.4 64-bit",
   "language": "python",
   "name": "python3"
  },
  "language_info": {
   "codemirror_mode": {
    "name": "ipython",
    "version": 3
   },
   "file_extension": ".py",
   "mimetype": "text/x-python",
   "name": "python",
   "nbconvert_exporter": "python",
   "pygments_lexer": "ipython3",
   "version": "3.10.4"
  },
  "orig_nbformat": 4,
  "vscode": {
   "interpreter": {
    "hash": "d3e10ef16274dd72e574b8fa73b58450b957d8421a2901baded3cca26fcf5dda"
   }
  }
 },
 "nbformat": 4,
 "nbformat_minor": 2
}
